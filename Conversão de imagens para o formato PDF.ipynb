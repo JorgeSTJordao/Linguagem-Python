{
 "cells": [
  {
   "cell_type": "code",
   "execution_count": null,
   "id": "243e895a",
   "metadata": {},
   "outputs": [],
   "source": [
    "# A biblioteca \"os\" será utilizada para manipulação de arquivos \n",
    "# A bilioteca \"Pillow (PIL Fork)\" será utilizada para conversão de imagens em formato PDF\n",
    "import os\n",
    "from PIL import Image"
   ]
  },
  {
   "cell_type": "markdown",
   "id": "728cf94f",
   "metadata": {},
   "source": [
    "Conversão de imagens para o formato PDF usando PIL"
   ]
  },
  {
   "cell_type": "code",
   "execution_count": null,
   "id": "3bedb086",
   "metadata": {},
   "outputs": [],
   "source": [
    "local = input(\"Insira o endereço em que está armazenado as imagens\")\n",
    "destino = input(\"Insira o endereço em que será salva as imagens no formato pdf\")\n",
    "count = 1\n",
    "\n",
    "def tentar(img):\n",
    "    try:\n",
    "        img = Image.open(local + \"\\\\\" + img)\n",
    "        imgn = img.convert('RGB')\n",
    "        imgn.save(destino + \"\\\\\" + \"img\" + str(count) + \".pdf\")\n",
    "    except:\n",
    "        pass\n",
    "\n",
    "for img in os.listdir(local):\n",
    "    if PermissionError:\n",
    "        tentar(img)\n",
    "    else:\n",
    "        img = Image.open(local + \"\\\\\" + img)\n",
    "        imgn = img.convert('RGB')\n",
    "        imgn.save(destino + \"\\\\\" + \"img\" + str(count) + \".pdf\")\n",
    "    \n",
    "    count += 1\n",
    "    \n",
    "print(\"Todas as imagens foram convertidas para pdf\")"
   ]
  }
 ],
 "metadata": {
  "kernelspec": {
   "display_name": "Python 3 (ipykernel)",
   "language": "python",
   "name": "python3"
  },
  "language_info": {
   "codemirror_mode": {
    "name": "ipython",
    "version": 3
   },
   "file_extension": ".py",
   "mimetype": "text/x-python",
   "name": "python",
   "nbconvert_exporter": "python",
   "pygments_lexer": "ipython3",
   "version": "3.9.7"
  }
 },
 "nbformat": 4,
 "nbformat_minor": 5
}
